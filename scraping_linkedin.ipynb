{
 "cells": [
  {
   "cell_type": "code",
   "execution_count": 2,
   "id": "dbcf88da-50e7-4f82-9403-cf8007056882",
   "metadata": {},
   "outputs": [],
   "source": [
    "#!pip install pandas selenium tqdm click webdriver-manager jupyterlab"
   ]
  },
  {
   "cell_type": "code",
   "execution_count": 3,
   "id": "07e14a0e-35cc-487f-a97f-2916f1eaa9b3",
   "metadata": {},
   "outputs": [],
   "source": [
    "# selenium 4\n",
    "from selenium import webdriver\n",
    "from selenium.webdriver.chrome.service import Service\n",
    "from webdriver_manager.chrome import ChromeDriverManager"
   ]
  },
  {
   "cell_type": "markdown",
   "id": "67c760d7-c731-4978-902f-dbc6b023da20",
   "metadata": {},
   "source": [
    "### Docs Selenium\n",
    "https://selenium-python.readthedocs.io/\n",
    "\n",
    "### Webdriver Manager\n",
    "https://pypi.org/project/webdriver-manager/"
   ]
  },
  {
   "cell_type": "code",
   "execution_count": 4,
   "id": "5b251ccb-e733-4114-8320-9c631210d72c",
   "metadata": {},
   "outputs": [
    {
     "name": "stderr",
     "output_type": "stream",
     "text": [
      "\n",
      "\n",
      "====== WebDriver manager ======\n",
      "Current google-chrome version is 100.0.4896\n",
      "Get LATEST chromedriver version for 100.0.4896 google-chrome\n",
      "Driver [/Users/viniciusgomes/.wdm/drivers/chromedriver/mac64/100.0.4896.60/chromedriver] found in cache\n"
     ]
    }
   ],
   "source": [
    "driver = webdriver.Chrome(service=Service(ChromeDriverManager().install()))"
   ]
  },
  {
   "cell_type": "code",
   "execution_count": 8,
   "id": "587225f5-ed88-4330-8327-1b56902b023f",
   "metadata": {},
   "outputs": [],
   "source": [
    "driver.get(\"https://www.linkedin.com/\")"
   ]
  },
  {
   "cell_type": "code",
   "execution_count": 13,
   "id": "d5a8f5fb-eaa1-431a-bfa6-f040257f4b8c",
   "metadata": {},
   "outputs": [],
   "source": [
    "#Ver atributos e métodos\n",
    "#dir(driver)"
   ]
  },
  {
   "cell_type": "code",
   "execution_count": 14,
   "id": "7f3e52b7-fda8-45d7-8c4b-8d4081d11f9c",
   "metadata": {},
   "outputs": [
    {
     "ename": "SyntaxError",
     "evalue": "unexpected EOF while parsing (4112688789.py, line 1)",
     "output_type": "error",
     "traceback": [
      "\u001b[0;36m  Input \u001b[0;32mIn [14]\u001b[0;36m\u001b[0m\n\u001b[0;31m    driver.find_element_by_xpath(\u001b[0m\n\u001b[0m                                 ^\u001b[0m\n\u001b[0;31mSyntaxError\u001b[0m\u001b[0;31m:\u001b[0m unexpected EOF while parsing\n"
     ]
    }
   ],
   "source": [
    "driver.find_element_by_xpath(\"/html/body/nav/ul/li[4]/a\")"
   ]
  },
  {
   "cell_type": "code",
   "execution_count": null,
   "id": "4cda66f1-a597-40ba-836e-9f22f1356dc1",
   "metadata": {},
   "outputs": [],
   "source": [
    "\""
   ]
  }
 ],
 "metadata": {
  "kernelspec": {
   "display_name": "Python 3 (ipykernel)",
   "language": "python",
   "name": "python3"
  },
  "language_info": {
   "codemirror_mode": {
    "name": "ipython",
    "version": 3
   },
   "file_extension": ".py",
   "mimetype": "text/x-python",
   "name": "python",
   "nbconvert_exporter": "python",
   "pygments_lexer": "ipython3",
   "version": "3.9.5"
  }
 },
 "nbformat": 4,
 "nbformat_minor": 5
}
