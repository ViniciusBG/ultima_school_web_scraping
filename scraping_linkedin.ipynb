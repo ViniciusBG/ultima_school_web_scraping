{
 "cells": [
  {
   "cell_type": "code",
   "execution_count": 2,
   "id": "dbcf88da-50e7-4f82-9403-cf8007056882",
   "metadata": {},
   "outputs": [],
   "source": [
    "#!pip install pandas selenium tqdm click webdriver-manager jupyterlab"
   ]
  },
  {
   "cell_type": "code",
   "execution_count": 87,
   "id": "07e14a0e-35cc-487f-a97f-2916f1eaa9b3",
   "metadata": {},
   "outputs": [],
   "source": [
    "# selenium 4\n",
    "from selenium import webdriver\n",
    "from selenium.webdriver.chrome.service import Service\n",
    "from selenium.webdriver.common.keys import Keys\n",
    "from webdriver_manager.chrome import ChromeDriverManager\n",
    "import pandas as pd\n",
    "from time import sleep"
   ]
  },
  {
   "cell_type": "markdown",
   "id": "67c760d7-c731-4978-902f-dbc6b023da20",
   "metadata": {},
   "source": [
    "### Docs Selenium\n",
    "https://selenium-python.readthedocs.io/\n",
    "\n",
    "### Webdriver Manager\n",
    "https://pypi.org/project/webdriver-manager/"
   ]
  },
  {
   "cell_type": "code",
   "execution_count": 31,
   "id": "5b251ccb-e733-4114-8320-9c631210d72c",
   "metadata": {},
   "outputs": [
    {
     "name": "stderr",
     "output_type": "stream",
     "text": [
      "\n",
      "\n",
      "====== WebDriver manager ======\n",
      "Current google-chrome version is 100.0.4896\n",
      "Get LATEST chromedriver version for 100.0.4896 google-chrome\n",
      "Driver [/Users/viniciusgomes/.wdm/drivers/chromedriver/mac64/100.0.4896.60/chromedriver] found in cache\n"
     ]
    }
   ],
   "source": [
    "driver = webdriver.Chrome(service=Service(ChromeDriverManager().install()))"
   ]
  },
  {
   "cell_type": "code",
   "execution_count": 32,
   "id": "587225f5-ed88-4330-8327-1b56902b023f",
   "metadata": {},
   "outputs": [],
   "source": [
    "driver.get(\"https://www.linkedin.com/\")"
   ]
  },
  {
   "cell_type": "code",
   "execution_count": 33,
   "id": "d5a8f5fb-eaa1-431a-bfa6-f040257f4b8c",
   "metadata": {},
   "outputs": [],
   "source": [
    "#Ver atributos e métodos\n",
    "#dir(driver)"
   ]
  },
  {
   "cell_type": "code",
   "execution_count": 34,
   "id": "7f3e52b7-fda8-45d7-8c4b-8d4081d11f9c",
   "metadata": {},
   "outputs": [
    {
     "name": "stderr",
     "output_type": "stream",
     "text": [
      "/var/folders/jx/jgsl6jw946b8x71ln5qmbs200000gn/T/ipykernel_33646/1310577326.py:2: DeprecationWarning: find_element_by_xpath is deprecated. Please use find_element(by=By.XPATH, value=xpath) instead\n",
      "  jobs_button = driver.find_element_by_xpath(\"/html/body/nav/ul/li[4]/a\")\n"
     ]
    }
   ],
   "source": [
    "# Localizar o botão de jobs\n",
    "jobs_button = driver.find_element_by_xpath(\"/html/body/nav/ul/li[4]/a\")"
   ]
  },
  {
   "cell_type": "code",
   "execution_count": 35,
   "id": "e102dd58-eba3-4a56-aea7-29b29303b00a",
   "metadata": {},
   "outputs": [
    {
     "data": {
      "text/plain": [
       "'Jobs'"
      ]
     },
     "execution_count": 35,
     "metadata": {},
     "output_type": "execute_result"
    }
   ],
   "source": [
    "jobs_button.text"
   ]
  },
  {
   "cell_type": "code",
   "execution_count": 36,
   "id": "4cda66f1-a597-40ba-836e-9f22f1356dc1",
   "metadata": {},
   "outputs": [],
   "source": [
    "jobs_button.click()"
   ]
  },
  {
   "cell_type": "code",
   "execution_count": 46,
   "id": "dd79f90d-3dbf-455c-8774-7c2fd0e3ea6a",
   "metadata": {},
   "outputs": [
    {
     "name": "stderr",
     "output_type": "stream",
     "text": [
      "/var/folders/jx/jgsl6jw946b8x71ln5qmbs200000gn/T/ipykernel_33646/2481413790.py:1: DeprecationWarning: find_element_by_xpath is deprecated. Please use find_element(by=By.XPATH, value=xpath) instead\n",
      "  job_title = driver.find_element_by_xpath(\"/html/body/div[1]/header/nav/section/section[2]/form/section[1]/input\")\n"
     ]
    }
   ],
   "source": [
    "job_title = driver.find_element_by_xpath(\"/html/body/div[1]/header/nav/section/section[2]/form/section[1]/input\")\n",
    "job_title.click()"
   ]
  },
  {
   "cell_type": "code",
   "execution_count": 48,
   "id": "f2e42fe3-70cc-41c6-bc02-4df4d5cb1d25",
   "metadata": {},
   "outputs": [],
   "source": [
    "job_title.send_keys(\"Cientista de dados\")"
   ]
  },
  {
   "cell_type": "code",
   "execution_count": 60,
   "id": "0e0dc2d9-9bf3-4300-af3b-162b81168305",
   "metadata": {},
   "outputs": [
    {
     "name": "stderr",
     "output_type": "stream",
     "text": [
      "/var/folders/jx/jgsl6jw946b8x71ln5qmbs200000gn/T/ipykernel_33646/610833993.py:1: DeprecationWarning: find_element_by_xpath is deprecated. Please use find_element(by=By.XPATH, value=xpath) instead\n",
      "  job_location = driver.find_element_by_xpath(\"/html/body/div[1]/header/nav/section/section[2]/form/section[2]/input\")\n"
     ]
    }
   ],
   "source": [
    "job_location = driver.find_element_by_xpath(\"/html/body/div[1]/header/nav/section/section[2]/form/section[2]/input\")\n",
    "job_location.click()"
   ]
  },
  {
   "cell_type": "code",
   "execution_count": 61,
   "id": "42b8b61c-2eda-4934-aeb1-52bf364fd192",
   "metadata": {},
   "outputs": [],
   "source": [
    "job_location.clear()"
   ]
  },
  {
   "cell_type": "code",
   "execution_count": 62,
   "id": "ec3606b7-2b93-4248-acc3-269d16f7ef30",
   "metadata": {},
   "outputs": [],
   "source": [
    "job_location.send_keys(\"Campinas\")"
   ]
  },
  {
   "cell_type": "code",
   "execution_count": 63,
   "id": "cba28c68-7055-4b38-8254-23b8a05f4e3a",
   "metadata": {},
   "outputs": [],
   "source": [
    "job_location.send_keys(Keys.ARROW_DOWN)"
   ]
  },
  {
   "cell_type": "code",
   "execution_count": 64,
   "id": "707a6f00-1494-45f8-8f14-8a89ea40e904",
   "metadata": {},
   "outputs": [],
   "source": [
    "job_location.send_keys(Keys.RETURN)"
   ]
  },
  {
   "cell_type": "code",
   "execution_count": 65,
   "id": "31aa4cfa-d094-42a0-a3ad-24f3d11e2a58",
   "metadata": {},
   "outputs": [
    {
     "name": "stderr",
     "output_type": "stream",
     "text": [
      "/var/folders/jx/jgsl6jw946b8x71ln5qmbs200000gn/T/ipykernel_33646/1953739583.py:1: DeprecationWarning: find_elements_by_class_name is deprecated. Please use find_elements(by=By.CLASS_NAME, value=name) instead\n",
      "  job_boxes = driver.find_elements_by_class_name(\"base-card\")\n"
     ]
    }
   ],
   "source": [
    "job_boxes = driver.find_elements_by_class_name(\"base-card\")"
   ]
  },
  {
   "cell_type": "code",
   "execution_count": 86,
   "id": "aa30a781-2315-49d5-b7d4-2914295def85",
   "metadata": {},
   "outputs": [],
   "source": [
    "#job_boxes"
   ]
  },
  {
   "cell_type": "code",
   "execution_count": 67,
   "id": "c032829e-55d5-41dc-aa6b-fc03eaeee68a",
   "metadata": {},
   "outputs": [],
   "source": [
    "jobs_texts = [job.text for job in job_boxes]"
   ]
  },
  {
   "cell_type": "code",
   "execution_count": 69,
   "id": "c02f122f-1e16-4d8b-a391-1ea162570c3c",
   "metadata": {},
   "outputs": [],
   "source": [
    "#jobs_texts"
   ]
  },
  {
   "cell_type": "code",
   "execution_count": 76,
   "id": "d9edbb77-b0e0-41f5-956b-2f929adfecdb",
   "metadata": {},
   "outputs": [],
   "source": [
    "job_boxes[2].click()"
   ]
  },
  {
   "cell_type": "code",
   "execution_count": 77,
   "id": "6a264a47-4daa-4413-a02b-9a27e9cc0ef0",
   "metadata": {},
   "outputs": [
    {
     "name": "stderr",
     "output_type": "stream",
     "text": [
      "/var/folders/jx/jgsl6jw946b8x71ln5qmbs200000gn/T/ipykernel_33646/3441360300.py:1: DeprecationWarning: find_element_by_class_name is deprecated. Please use find_element(by=By.CLASS_NAME, value=name) instead\n",
      "  company = driver.find_element_by_class_name(\"topcard__flavor\")\n"
     ]
    }
   ],
   "source": [
    "company = driver.find_element_by_class_name(\"topcard__flavor\")"
   ]
  },
  {
   "cell_type": "code",
   "execution_count": 85,
   "id": "e113625c-fe71-45e6-870c-0f28cc982323",
   "metadata": {},
   "outputs": [],
   "source": [
    "jobs_table = pd.DataFrame(\n",
    "    columns=[\n",
    "        \"company\",\n",
    "        \"job_description\",\n",
    "        \"level\"    \n",
    "    ]\n",
    ")"
   ]
  },
  {
   "cell_type": "code",
   "execution_count": 89,
   "id": "f2f642be-edb9-4ad4-b881-517d617d5d10",
   "metadata": {},
   "outputs": [
    {
     "name": "stderr",
     "output_type": "stream",
     "text": [
      "/var/folders/jx/jgsl6jw946b8x71ln5qmbs200000gn/T/ipykernel_33646/2073965422.py:4: DeprecationWarning: find_element_by_class_name is deprecated. Please use find_element(by=By.CLASS_NAME, value=name) instead\n",
      "  company = driver.find_element_by_class_name(\"topcard__flavor\").text\n",
      "/var/folders/jx/jgsl6jw946b8x71ln5qmbs200000gn/T/ipykernel_33646/2073965422.py:6: DeprecationWarning: find_element_by_class_name is deprecated. Please use find_element(by=By.CLASS_NAME, value=name) instead\n",
      "  job_description = driver.find_element_by_class_name(\"show-more-less-html__markup\").text\n",
      "/var/folders/jx/jgsl6jw946b8x71ln5qmbs200000gn/T/ipykernel_33646/2073965422.py:8: DeprecationWarning: find_element_by_class_name is deprecated. Please use find_element(by=By.CLASS_NAME, value=name) instead\n",
      "  job_level = driver.find_element_by_class_name(\"description__job-criteria-text\").text\n",
      "/var/folders/jx/jgsl6jw946b8x71ln5qmbs200000gn/T/ipykernel_33646/2073965422.py:12: FutureWarning: The frame.append method is deprecated and will be removed from pandas in a future version. Use pandas.concat instead.\n",
      "  jobs_table = jobs_table.append(pd.DataFrame([fields_list],columns=jobs_table.columns))\n",
      "/var/folders/jx/jgsl6jw946b8x71ln5qmbs200000gn/T/ipykernel_33646/2073965422.py:4: DeprecationWarning: find_element_by_class_name is deprecated. Please use find_element(by=By.CLASS_NAME, value=name) instead\n",
      "  company = driver.find_element_by_class_name(\"topcard__flavor\").text\n",
      "/var/folders/jx/jgsl6jw946b8x71ln5qmbs200000gn/T/ipykernel_33646/2073965422.py:6: DeprecationWarning: find_element_by_class_name is deprecated. Please use find_element(by=By.CLASS_NAME, value=name) instead\n",
      "  job_description = driver.find_element_by_class_name(\"show-more-less-html__markup\").text\n",
      "/var/folders/jx/jgsl6jw946b8x71ln5qmbs200000gn/T/ipykernel_33646/2073965422.py:8: DeprecationWarning: find_element_by_class_name is deprecated. Please use find_element(by=By.CLASS_NAME, value=name) instead\n",
      "  job_level = driver.find_element_by_class_name(\"description__job-criteria-text\").text\n",
      "/var/folders/jx/jgsl6jw946b8x71ln5qmbs200000gn/T/ipykernel_33646/2073965422.py:12: FutureWarning: The frame.append method is deprecated and will be removed from pandas in a future version. Use pandas.concat instead.\n",
      "  jobs_table = jobs_table.append(pd.DataFrame([fields_list],columns=jobs_table.columns))\n",
      "/var/folders/jx/jgsl6jw946b8x71ln5qmbs200000gn/T/ipykernel_33646/2073965422.py:4: DeprecationWarning: find_element_by_class_name is deprecated. Please use find_element(by=By.CLASS_NAME, value=name) instead\n",
      "  company = driver.find_element_by_class_name(\"topcard__flavor\").text\n",
      "/var/folders/jx/jgsl6jw946b8x71ln5qmbs200000gn/T/ipykernel_33646/2073965422.py:6: DeprecationWarning: find_element_by_class_name is deprecated. Please use find_element(by=By.CLASS_NAME, value=name) instead\n",
      "  job_description = driver.find_element_by_class_name(\"show-more-less-html__markup\").text\n",
      "/var/folders/jx/jgsl6jw946b8x71ln5qmbs200000gn/T/ipykernel_33646/2073965422.py:8: DeprecationWarning: find_element_by_class_name is deprecated. Please use find_element(by=By.CLASS_NAME, value=name) instead\n",
      "  job_level = driver.find_element_by_class_name(\"description__job-criteria-text\").text\n",
      "/var/folders/jx/jgsl6jw946b8x71ln5qmbs200000gn/T/ipykernel_33646/2073965422.py:12: FutureWarning: The frame.append method is deprecated and will be removed from pandas in a future version. Use pandas.concat instead.\n",
      "  jobs_table = jobs_table.append(pd.DataFrame([fields_list],columns=jobs_table.columns))\n",
      "/var/folders/jx/jgsl6jw946b8x71ln5qmbs200000gn/T/ipykernel_33646/2073965422.py:4: DeprecationWarning: find_element_by_class_name is deprecated. Please use find_element(by=By.CLASS_NAME, value=name) instead\n",
      "  company = driver.find_element_by_class_name(\"topcard__flavor\").text\n",
      "/var/folders/jx/jgsl6jw946b8x71ln5qmbs200000gn/T/ipykernel_33646/2073965422.py:6: DeprecationWarning: find_element_by_class_name is deprecated. Please use find_element(by=By.CLASS_NAME, value=name) instead\n",
      "  job_description = driver.find_element_by_class_name(\"show-more-less-html__markup\").text\n",
      "/var/folders/jx/jgsl6jw946b8x71ln5qmbs200000gn/T/ipykernel_33646/2073965422.py:8: DeprecationWarning: find_element_by_class_name is deprecated. Please use find_element(by=By.CLASS_NAME, value=name) instead\n",
      "  job_level = driver.find_element_by_class_name(\"description__job-criteria-text\").text\n",
      "/var/folders/jx/jgsl6jw946b8x71ln5qmbs200000gn/T/ipykernel_33646/2073965422.py:12: FutureWarning: The frame.append method is deprecated and will be removed from pandas in a future version. Use pandas.concat instead.\n",
      "  jobs_table = jobs_table.append(pd.DataFrame([fields_list],columns=jobs_table.columns))\n",
      "/var/folders/jx/jgsl6jw946b8x71ln5qmbs200000gn/T/ipykernel_33646/2073965422.py:4: DeprecationWarning: find_element_by_class_name is deprecated. Please use find_element(by=By.CLASS_NAME, value=name) instead\n",
      "  company = driver.find_element_by_class_name(\"topcard__flavor\").text\n",
      "/var/folders/jx/jgsl6jw946b8x71ln5qmbs200000gn/T/ipykernel_33646/2073965422.py:6: DeprecationWarning: find_element_by_class_name is deprecated. Please use find_element(by=By.CLASS_NAME, value=name) instead\n",
      "  job_description = driver.find_element_by_class_name(\"show-more-less-html__markup\").text\n",
      "/var/folders/jx/jgsl6jw946b8x71ln5qmbs200000gn/T/ipykernel_33646/2073965422.py:8: DeprecationWarning: find_element_by_class_name is deprecated. Please use find_element(by=By.CLASS_NAME, value=name) instead\n",
      "  job_level = driver.find_element_by_class_name(\"description__job-criteria-text\").text\n",
      "/var/folders/jx/jgsl6jw946b8x71ln5qmbs200000gn/T/ipykernel_33646/2073965422.py:12: FutureWarning: The frame.append method is deprecated and will be removed from pandas in a future version. Use pandas.concat instead.\n",
      "  jobs_table = jobs_table.append(pd.DataFrame([fields_list],columns=jobs_table.columns))\n",
      "/var/folders/jx/jgsl6jw946b8x71ln5qmbs200000gn/T/ipykernel_33646/2073965422.py:4: DeprecationWarning: find_element_by_class_name is deprecated. Please use find_element(by=By.CLASS_NAME, value=name) instead\n",
      "  company = driver.find_element_by_class_name(\"topcard__flavor\").text\n",
      "/var/folders/jx/jgsl6jw946b8x71ln5qmbs200000gn/T/ipykernel_33646/2073965422.py:6: DeprecationWarning: find_element_by_class_name is deprecated. Please use find_element(by=By.CLASS_NAME, value=name) instead\n",
      "  job_description = driver.find_element_by_class_name(\"show-more-less-html__markup\").text\n",
      "/var/folders/jx/jgsl6jw946b8x71ln5qmbs200000gn/T/ipykernel_33646/2073965422.py:8: DeprecationWarning: find_element_by_class_name is deprecated. Please use find_element(by=By.CLASS_NAME, value=name) instead\n",
      "  job_level = driver.find_element_by_class_name(\"description__job-criteria-text\").text\n",
      "/var/folders/jx/jgsl6jw946b8x71ln5qmbs200000gn/T/ipykernel_33646/2073965422.py:12: FutureWarning: The frame.append method is deprecated and will be removed from pandas in a future version. Use pandas.concat instead.\n",
      "  jobs_table = jobs_table.append(pd.DataFrame([fields_list],columns=jobs_table.columns))\n",
      "/var/folders/jx/jgsl6jw946b8x71ln5qmbs200000gn/T/ipykernel_33646/2073965422.py:4: DeprecationWarning: find_element_by_class_name is deprecated. Please use find_element(by=By.CLASS_NAME, value=name) instead\n",
      "  company = driver.find_element_by_class_name(\"topcard__flavor\").text\n",
      "/var/folders/jx/jgsl6jw946b8x71ln5qmbs200000gn/T/ipykernel_33646/2073965422.py:6: DeprecationWarning: find_element_by_class_name is deprecated. Please use find_element(by=By.CLASS_NAME, value=name) instead\n",
      "  job_description = driver.find_element_by_class_name(\"show-more-less-html__markup\").text\n",
      "/var/folders/jx/jgsl6jw946b8x71ln5qmbs200000gn/T/ipykernel_33646/2073965422.py:8: DeprecationWarning: find_element_by_class_name is deprecated. Please use find_element(by=By.CLASS_NAME, value=name) instead\n",
      "  job_level = driver.find_element_by_class_name(\"description__job-criteria-text\").text\n",
      "/var/folders/jx/jgsl6jw946b8x71ln5qmbs200000gn/T/ipykernel_33646/2073965422.py:12: FutureWarning: The frame.append method is deprecated and will be removed from pandas in a future version. Use pandas.concat instead.\n",
      "  jobs_table = jobs_table.append(pd.DataFrame([fields_list],columns=jobs_table.columns))\n",
      "/var/folders/jx/jgsl6jw946b8x71ln5qmbs200000gn/T/ipykernel_33646/2073965422.py:4: DeprecationWarning: find_element_by_class_name is deprecated. Please use find_element(by=By.CLASS_NAME, value=name) instead\n",
      "  company = driver.find_element_by_class_name(\"topcard__flavor\").text\n",
      "/var/folders/jx/jgsl6jw946b8x71ln5qmbs200000gn/T/ipykernel_33646/2073965422.py:6: DeprecationWarning: find_element_by_class_name is deprecated. Please use find_element(by=By.CLASS_NAME, value=name) instead\n",
      "  job_description = driver.find_element_by_class_name(\"show-more-less-html__markup\").text\n",
      "/var/folders/jx/jgsl6jw946b8x71ln5qmbs200000gn/T/ipykernel_33646/2073965422.py:8: DeprecationWarning: find_element_by_class_name is deprecated. Please use find_element(by=By.CLASS_NAME, value=name) instead\n",
      "  job_level = driver.find_element_by_class_name(\"description__job-criteria-text\").text\n",
      "/var/folders/jx/jgsl6jw946b8x71ln5qmbs200000gn/T/ipykernel_33646/2073965422.py:12: FutureWarning: The frame.append method is deprecated and will be removed from pandas in a future version. Use pandas.concat instead.\n",
      "  jobs_table = jobs_table.append(pd.DataFrame([fields_list],columns=jobs_table.columns))\n",
      "/var/folders/jx/jgsl6jw946b8x71ln5qmbs200000gn/T/ipykernel_33646/2073965422.py:4: DeprecationWarning: find_element_by_class_name is deprecated. Please use find_element(by=By.CLASS_NAME, value=name) instead\n",
      "  company = driver.find_element_by_class_name(\"topcard__flavor\").text\n",
      "/var/folders/jx/jgsl6jw946b8x71ln5qmbs200000gn/T/ipykernel_33646/2073965422.py:6: DeprecationWarning: find_element_by_class_name is deprecated. Please use find_element(by=By.CLASS_NAME, value=name) instead\n",
      "  job_description = driver.find_element_by_class_name(\"show-more-less-html__markup\").text\n",
      "/var/folders/jx/jgsl6jw946b8x71ln5qmbs200000gn/T/ipykernel_33646/2073965422.py:8: DeprecationWarning: find_element_by_class_name is deprecated. Please use find_element(by=By.CLASS_NAME, value=name) instead\n",
      "  job_level = driver.find_element_by_class_name(\"description__job-criteria-text\").text\n",
      "/var/folders/jx/jgsl6jw946b8x71ln5qmbs200000gn/T/ipykernel_33646/2073965422.py:12: FutureWarning: The frame.append method is deprecated and will be removed from pandas in a future version. Use pandas.concat instead.\n",
      "  jobs_table = jobs_table.append(pd.DataFrame([fields_list],columns=jobs_table.columns))\n",
      "/var/folders/jx/jgsl6jw946b8x71ln5qmbs200000gn/T/ipykernel_33646/2073965422.py:4: DeprecationWarning: find_element_by_class_name is deprecated. Please use find_element(by=By.CLASS_NAME, value=name) instead\n",
      "  company = driver.find_element_by_class_name(\"topcard__flavor\").text\n",
      "/var/folders/jx/jgsl6jw946b8x71ln5qmbs200000gn/T/ipykernel_33646/2073965422.py:6: DeprecationWarning: find_element_by_class_name is deprecated. Please use find_element(by=By.CLASS_NAME, value=name) instead\n",
      "  job_description = driver.find_element_by_class_name(\"show-more-less-html__markup\").text\n",
      "/var/folders/jx/jgsl6jw946b8x71ln5qmbs200000gn/T/ipykernel_33646/2073965422.py:8: DeprecationWarning: find_element_by_class_name is deprecated. Please use find_element(by=By.CLASS_NAME, value=name) instead\n",
      "  job_level = driver.find_element_by_class_name(\"description__job-criteria-text\").text\n",
      "/var/folders/jx/jgsl6jw946b8x71ln5qmbs200000gn/T/ipykernel_33646/2073965422.py:12: FutureWarning: The frame.append method is deprecated and will be removed from pandas in a future version. Use pandas.concat instead.\n",
      "  jobs_table = jobs_table.append(pd.DataFrame([fields_list],columns=jobs_table.columns))\n",
      "/var/folders/jx/jgsl6jw946b8x71ln5qmbs200000gn/T/ipykernel_33646/2073965422.py:4: DeprecationWarning: find_element_by_class_name is deprecated. Please use find_element(by=By.CLASS_NAME, value=name) instead\n",
      "  company = driver.find_element_by_class_name(\"topcard__flavor\").text\n",
      "/var/folders/jx/jgsl6jw946b8x71ln5qmbs200000gn/T/ipykernel_33646/2073965422.py:6: DeprecationWarning: find_element_by_class_name is deprecated. Please use find_element(by=By.CLASS_NAME, value=name) instead\n",
      "  job_description = driver.find_element_by_class_name(\"show-more-less-html__markup\").text\n",
      "/var/folders/jx/jgsl6jw946b8x71ln5qmbs200000gn/T/ipykernel_33646/2073965422.py:8: DeprecationWarning: find_element_by_class_name is deprecated. Please use find_element(by=By.CLASS_NAME, value=name) instead\n",
      "  job_level = driver.find_element_by_class_name(\"description__job-criteria-text\").text\n",
      "/var/folders/jx/jgsl6jw946b8x71ln5qmbs200000gn/T/ipykernel_33646/2073965422.py:12: FutureWarning: The frame.append method is deprecated and will be removed from pandas in a future version. Use pandas.concat instead.\n",
      "  jobs_table = jobs_table.append(pd.DataFrame([fields_list],columns=jobs_table.columns))\n",
      "/var/folders/jx/jgsl6jw946b8x71ln5qmbs200000gn/T/ipykernel_33646/2073965422.py:4: DeprecationWarning: find_element_by_class_name is deprecated. Please use find_element(by=By.CLASS_NAME, value=name) instead\n",
      "  company = driver.find_element_by_class_name(\"topcard__flavor\").text\n",
      "/var/folders/jx/jgsl6jw946b8x71ln5qmbs200000gn/T/ipykernel_33646/2073965422.py:6: DeprecationWarning: find_element_by_class_name is deprecated. Please use find_element(by=By.CLASS_NAME, value=name) instead\n",
      "  job_description = driver.find_element_by_class_name(\"show-more-less-html__markup\").text\n",
      "/var/folders/jx/jgsl6jw946b8x71ln5qmbs200000gn/T/ipykernel_33646/2073965422.py:8: DeprecationWarning: find_element_by_class_name is deprecated. Please use find_element(by=By.CLASS_NAME, value=name) instead\n",
      "  job_level = driver.find_element_by_class_name(\"description__job-criteria-text\").text\n",
      "/var/folders/jx/jgsl6jw946b8x71ln5qmbs200000gn/T/ipykernel_33646/2073965422.py:12: FutureWarning: The frame.append method is deprecated and will be removed from pandas in a future version. Use pandas.concat instead.\n",
      "  jobs_table = jobs_table.append(pd.DataFrame([fields_list],columns=jobs_table.columns))\n",
      "/var/folders/jx/jgsl6jw946b8x71ln5qmbs200000gn/T/ipykernel_33646/2073965422.py:4: DeprecationWarning: find_element_by_class_name is deprecated. Please use find_element(by=By.CLASS_NAME, value=name) instead\n",
      "  company = driver.find_element_by_class_name(\"topcard__flavor\").text\n",
      "/var/folders/jx/jgsl6jw946b8x71ln5qmbs200000gn/T/ipykernel_33646/2073965422.py:6: DeprecationWarning: find_element_by_class_name is deprecated. Please use find_element(by=By.CLASS_NAME, value=name) instead\n",
      "  job_description = driver.find_element_by_class_name(\"show-more-less-html__markup\").text\n",
      "/var/folders/jx/jgsl6jw946b8x71ln5qmbs200000gn/T/ipykernel_33646/2073965422.py:8: DeprecationWarning: find_element_by_class_name is deprecated. Please use find_element(by=By.CLASS_NAME, value=name) instead\n",
      "  job_level = driver.find_element_by_class_name(\"description__job-criteria-text\").text\n",
      "/var/folders/jx/jgsl6jw946b8x71ln5qmbs200000gn/T/ipykernel_33646/2073965422.py:12: FutureWarning: The frame.append method is deprecated and will be removed from pandas in a future version. Use pandas.concat instead.\n",
      "  jobs_table = jobs_table.append(pd.DataFrame([fields_list],columns=jobs_table.columns))\n",
      "/var/folders/jx/jgsl6jw946b8x71ln5qmbs200000gn/T/ipykernel_33646/2073965422.py:4: DeprecationWarning: find_element_by_class_name is deprecated. Please use find_element(by=By.CLASS_NAME, value=name) instead\n",
      "  company = driver.find_element_by_class_name(\"topcard__flavor\").text\n",
      "/var/folders/jx/jgsl6jw946b8x71ln5qmbs200000gn/T/ipykernel_33646/2073965422.py:6: DeprecationWarning: find_element_by_class_name is deprecated. Please use find_element(by=By.CLASS_NAME, value=name) instead\n",
      "  job_description = driver.find_element_by_class_name(\"show-more-less-html__markup\").text\n",
      "/var/folders/jx/jgsl6jw946b8x71ln5qmbs200000gn/T/ipykernel_33646/2073965422.py:8: DeprecationWarning: find_element_by_class_name is deprecated. Please use find_element(by=By.CLASS_NAME, value=name) instead\n",
      "  job_level = driver.find_element_by_class_name(\"description__job-criteria-text\").text\n",
      "/var/folders/jx/jgsl6jw946b8x71ln5qmbs200000gn/T/ipykernel_33646/2073965422.py:12: FutureWarning: The frame.append method is deprecated and will be removed from pandas in a future version. Use pandas.concat instead.\n",
      "  jobs_table = jobs_table.append(pd.DataFrame([fields_list],columns=jobs_table.columns))\n"
     ]
    }
   ],
   "source": [
    "for job in range(len(job_boxes)):\n",
    "    job_boxes[job].click()\n",
    "    sleep(2)\n",
    "    company = driver.find_element_by_class_name(\"topcard__flavor\").text\n",
    "    sleep(1)\n",
    "    job_description = driver.find_element_by_class_name(\"show-more-less-html__markup\").text\n",
    "    sleep(1)\n",
    "    job_level = driver.find_element_by_class_name(\"description__job-criteria-text\").text\n",
    "    sleep(2)\n",
    "    \n",
    "    fields_list = [company,job_description,job_level]\n",
    "    jobs_table = jobs_table.append(pd.DataFrame([fields_list],columns=jobs_table.columns))\n",
    "    \n",
    "    "
   ]
  },
  {
   "cell_type": "code",
   "execution_count": 90,
   "id": "5ef12bcd-bcda-41f0-91b5-7f5242e441e3",
   "metadata": {},
   "outputs": [
    {
     "data": {
      "text/html": [
       "<div>\n",
       "<style scoped>\n",
       "    .dataframe tbody tr th:only-of-type {\n",
       "        vertical-align: middle;\n",
       "    }\n",
       "\n",
       "    .dataframe tbody tr th {\n",
       "        vertical-align: top;\n",
       "    }\n",
       "\n",
       "    .dataframe thead th {\n",
       "        text-align: right;\n",
       "    }\n",
       "</style>\n",
       "<table border=\"1\" class=\"dataframe\">\n",
       "  <thead>\n",
       "    <tr style=\"text-align: right;\">\n",
       "      <th></th>\n",
       "      <th>company</th>\n",
       "      <th>job_description</th>\n",
       "      <th>level</th>\n",
       "    </tr>\n",
       "  </thead>\n",
       "  <tbody>\n",
       "    <tr>\n",
       "      <th>0</th>\n",
       "      <td>BracePharmaVagas</td>\n",
       "      <td>Graduado em Engenharias, Ciências e Dados (áre...</td>\n",
       "      <td>Associate</td>\n",
       "    </tr>\n",
       "    <tr>\n",
       "      <th>0</th>\n",
       "      <td>VemSerUmDilettanteVagas</td>\n",
       "      <td>Requisitos Obrigatórios\\nSuperior completo;\\nI...</td>\n",
       "      <td>Associate</td>\n",
       "    </tr>\n",
       "    <tr>\n",
       "      <th>0</th>\n",
       "      <td>Blinctek</td>\n",
       "      <td>Você é atento a detalhes, gosta de trabalhar c...</td>\n",
       "      <td>Not Applicable</td>\n",
       "    </tr>\n",
       "    <tr>\n",
       "      <th>0</th>\n",
       "      <td>IBM</td>\n",
       "      <td>404507BR\\n\\nIntrodução\\n\\nComo Cientista de da...</td>\n",
       "      <td>Not Applicable</td>\n",
       "    </tr>\n",
       "    <tr>\n",
       "      <th>0</th>\n",
       "      <td>EY</td>\n",
       "      <td>A EY é líder global em serviços de Auditoria, ...</td>\n",
       "      <td>Mid-Senior level</td>\n",
       "    </tr>\n",
       "    <tr>\n",
       "      <th>0</th>\n",
       "      <td>Brace Pharma</td>\n",
       "      <td>Se você é apaixonado por novos modelos de negó...</td>\n",
       "      <td>Not Applicable</td>\n",
       "    </tr>\n",
       "    <tr>\n",
       "      <th>0</th>\n",
       "      <td>Kumulus</td>\n",
       "      <td>Na Kumulus respiramos inovação e tecnologia to...</td>\n",
       "      <td>Not Applicable</td>\n",
       "    </tr>\n",
       "    <tr>\n",
       "      <th>0</th>\n",
       "      <td>KenloVagas</td>\n",
       "      <td>Nossa Expectativa\\nPerfil fortemente analítico...</td>\n",
       "      <td>Entry level</td>\n",
       "    </tr>\n",
       "    <tr>\n",
       "      <th>0</th>\n",
       "      <td>Amyris</td>\n",
       "      <td>Para se inscrever, favor enviar o currículo pa...</td>\n",
       "      <td>Entry level</td>\n",
       "    </tr>\n",
       "    <tr>\n",
       "      <th>0</th>\n",
       "      <td>Kenlo</td>\n",
       "      <td>Job Description\\n\\nBuscamos um talento com par...</td>\n",
       "      <td>Entry level</td>\n",
       "    </tr>\n",
       "    <tr>\n",
       "      <th>0</th>\n",
       "      <td>IBM</td>\n",
       "      <td>540338BR\\n\\nIntrodução\\n\\nComo Cientista de da...</td>\n",
       "      <td>Not Applicable</td>\n",
       "    </tr>\n",
       "    <tr>\n",
       "      <th>0</th>\n",
       "      <td>IBM</td>\n",
       "      <td>532854BR\\n\\nIntrodução\\n\\nOs Cientistas de pes...</td>\n",
       "      <td>Not Applicable</td>\n",
       "    </tr>\n",
       "    <tr>\n",
       "      <th>0</th>\n",
       "      <td>V4 Company</td>\n",
       "      <td>A V4 Company está com vagas abertas, mas só se...</td>\n",
       "      <td>Full-time</td>\n",
       "    </tr>\n",
       "    <tr>\n",
       "      <th>0</th>\n",
       "      <td>IBM</td>\n",
       "      <td>487690BR\\n\\nIntrodução\\n\\nEstamos buscando pro...</td>\n",
       "      <td>Not Applicable</td>\n",
       "    </tr>\n",
       "  </tbody>\n",
       "</table>\n",
       "</div>"
      ],
      "text/plain": [
       "                   company                                    job_description  \\\n",
       "0         BracePharmaVagas  Graduado em Engenharias, Ciências e Dados (áre...   \n",
       "0  VemSerUmDilettanteVagas  Requisitos Obrigatórios\\nSuperior completo;\\nI...   \n",
       "0                 Blinctek  Você é atento a detalhes, gosta de trabalhar c...   \n",
       "0                      IBM  404507BR\\n\\nIntrodução\\n\\nComo Cientista de da...   \n",
       "0                       EY  A EY é líder global em serviços de Auditoria, ...   \n",
       "0             Brace Pharma  Se você é apaixonado por novos modelos de negó...   \n",
       "0                  Kumulus  Na Kumulus respiramos inovação e tecnologia to...   \n",
       "0               KenloVagas  Nossa Expectativa\\nPerfil fortemente analítico...   \n",
       "0                   Amyris  Para se inscrever, favor enviar o currículo pa...   \n",
       "0                    Kenlo  Job Description\\n\\nBuscamos um talento com par...   \n",
       "0                      IBM  540338BR\\n\\nIntrodução\\n\\nComo Cientista de da...   \n",
       "0                      IBM  532854BR\\n\\nIntrodução\\n\\nOs Cientistas de pes...   \n",
       "0               V4 Company  A V4 Company está com vagas abertas, mas só se...   \n",
       "0                      IBM  487690BR\\n\\nIntrodução\\n\\nEstamos buscando pro...   \n",
       "\n",
       "              level  \n",
       "0         Associate  \n",
       "0         Associate  \n",
       "0    Not Applicable  \n",
       "0    Not Applicable  \n",
       "0  Mid-Senior level  \n",
       "0    Not Applicable  \n",
       "0    Not Applicable  \n",
       "0       Entry level  \n",
       "0       Entry level  \n",
       "0       Entry level  \n",
       "0    Not Applicable  \n",
       "0    Not Applicable  \n",
       "0         Full-time  \n",
       "0    Not Applicable  "
      ]
     },
     "execution_count": 90,
     "metadata": {},
     "output_type": "execute_result"
    }
   ],
   "source": [
    "jobs_table"
   ]
  },
  {
   "cell_type": "code",
   "execution_count": null,
   "id": "7232650f-ca7d-4efb-a78d-94f2e4f39edd",
   "metadata": {},
   "outputs": [],
   "source": []
  },
  {
   "cell_type": "code",
   "execution_count": null,
   "id": "65733dee-bf71-4f11-9ec2-cb03869dffe5",
   "metadata": {},
   "outputs": [],
   "source": []
  },
  {
   "cell_type": "code",
   "execution_count": null,
   "id": "8aa7198b-e319-42ce-bd09-2085849a4fdd",
   "metadata": {},
   "outputs": [],
   "source": []
  },
  {
   "cell_type": "code",
   "execution_count": null,
   "id": "945ff1a6-1619-4571-a69d-1623b28b057a",
   "metadata": {},
   "outputs": [],
   "source": []
  },
  {
   "cell_type": "code",
   "execution_count": null,
   "id": "4dd6772d-a067-4114-a176-816e9c1bd276",
   "metadata": {},
   "outputs": [],
   "source": []
  },
  {
   "cell_type": "code",
   "execution_count": 30,
   "id": "693f1ccd-19d8-45a3-b005-fcaa7b524182",
   "metadata": {},
   "outputs": [],
   "source": [
    "driver.close()"
   ]
  },
  {
   "cell_type": "code",
   "execution_count": null,
   "id": "3ff34729-69e9-444d-a378-5dd7d0b408d2",
   "metadata": {},
   "outputs": [],
   "source": []
  }
 ],
 "metadata": {
  "kernelspec": {
   "display_name": "Python 3 (ipykernel)",
   "language": "python",
   "name": "python3"
  },
  "language_info": {
   "codemirror_mode": {
    "name": "ipython",
    "version": 3
   },
   "file_extension": ".py",
   "mimetype": "text/x-python",
   "name": "python",
   "nbconvert_exporter": "python",
   "pygments_lexer": "ipython3",
   "version": "3.9.5"
  }
 },
 "nbformat": 4,
 "nbformat_minor": 5
}
