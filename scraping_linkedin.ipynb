{
 "cells": [
  {
   "cell_type": "code",
   "execution_count": 2,
   "id": "dbcf88da-50e7-4f82-9403-cf8007056882",
   "metadata": {},
   "outputs": [],
   "source": [
    "#!pip install pandas selenium tqdm click webdriver-manager jupyterlab"
   ]
  },
  {
   "cell_type": "code",
   "execution_count": 3,
   "id": "07e14a0e-35cc-487f-a97f-2916f1eaa9b3",
   "metadata": {},
   "outputs": [],
   "source": [
    "# selenium 4\n",
    "from selenium import webdriver\n",
    "from selenium.webdriver.chrome.service import Service\n",
    "from selenium.webdriver.common.keys import Keys\n",
    "from webdriver_manager.chrome import ChromeDriverManager"
   ]
  },
  {
   "cell_type": "markdown",
   "id": "67c760d7-c731-4978-902f-dbc6b023da20",
   "metadata": {},
   "source": [
    "### Docs Selenium\n",
    "https://selenium-python.readthedocs.io/\n",
    "\n",
    "### Webdriver Manager\n",
    "https://pypi.org/project/webdriver-manager/"
   ]
  },
  {
   "cell_type": "code",
   "execution_count": 4,
   "id": "5b251ccb-e733-4114-8320-9c631210d72c",
   "metadata": {},
   "outputs": [
    {
     "name": "stderr",
     "output_type": "stream",
     "text": [
      "\n",
      "\n",
      "====== WebDriver manager ======\n",
      "Current google-chrome version is 100.0.4896\n",
      "Get LATEST chromedriver version for 100.0.4896 google-chrome\n",
      "Driver [/Users/viniciusgomes/.wdm/drivers/chromedriver/mac64/100.0.4896.60/chromedriver] found in cache\n"
     ]
    }
   ],
   "source": [
    "driver = webdriver.Chrome(service=Service(ChromeDriverManager().install()))"
   ]
  },
  {
   "cell_type": "code",
   "execution_count": 8,
   "id": "587225f5-ed88-4330-8327-1b56902b023f",
   "metadata": {},
   "outputs": [],
   "source": [
    "driver.get(\"https://www.linkedin.com/\")"
   ]
  },
  {
   "cell_type": "code",
   "execution_count": 13,
   "id": "d5a8f5fb-eaa1-431a-bfa6-f040257f4b8c",
   "metadata": {},
   "outputs": [],
   "source": [
    "#Ver atributos e métodos\n",
    "#dir(driver)"
   ]
  },
  {
   "cell_type": "code",
   "execution_count": 16,
   "id": "7f3e52b7-fda8-45d7-8c4b-8d4081d11f9c",
   "metadata": {},
   "outputs": [
    {
     "name": "stderr",
     "output_type": "stream",
     "text": [
      "/var/folders/jx/jgsl6jw946b8x71ln5qmbs200000gn/T/ipykernel_33646/1310577326.py:2: DeprecationWarning: find_element_by_xpath is deprecated. Please use find_element(by=By.XPATH, value=xpath) instead\n",
      "  jobs_button = driver.find_element_by_xpath(\"/html/body/nav/ul/li[4]/a\")\n"
     ]
    }
   ],
   "source": [
    "# Localizar o botão de jobs\n",
    "jobs_button = driver.find_element_by_xpath(\"/html/body/nav/ul/li[4]/a\")"
   ]
  },
  {
   "cell_type": "code",
   "execution_count": 17,
   "id": "4cda66f1-a597-40ba-836e-9f22f1356dc1",
   "metadata": {},
   "outputs": [],
   "source": [
    "jobs_button.click()"
   ]
  },
  {
   "cell_type": "code",
   "execution_count": 18,
   "id": "dd79f90d-3dbf-455c-8774-7c2fd0e3ea6a",
   "metadata": {},
   "outputs": [
    {
     "name": "stderr",
     "output_type": "stream",
     "text": [
      "/var/folders/jx/jgsl6jw946b8x71ln5qmbs200000gn/T/ipykernel_33646/2481413790.py:1: DeprecationWarning: find_element_by_xpath is deprecated. Please use find_element(by=By.XPATH, value=xpath) instead\n",
      "  job_title = driver.find_element_by_xpath(\"/html/body/div[1]/header/nav/section/section[2]/form/section[1]/input\")\n"
     ]
    }
   ],
   "source": [
    "job_title = driver.find_element_by_xpath(\"/html/body/div[1]/header/nav/section/section[2]/form/section[1]/input\")\n",
    "job_title.click()"
   ]
  },
  {
   "cell_type": "code",
   "execution_count": 19,
   "id": "f2e42fe3-70cc-41c6-bc02-4df4d5cb1d25",
   "metadata": {},
   "outputs": [],
   "source": [
    "job_title.send_keys(\"Cientista de dados\")"
   ]
  },
  {
   "cell_type": "code",
   "execution_count": 20,
   "id": "0e0dc2d9-9bf3-4300-af3b-162b81168305",
   "metadata": {},
   "outputs": [
    {
     "name": "stderr",
     "output_type": "stream",
     "text": [
      "/var/folders/jx/jgsl6jw946b8x71ln5qmbs200000gn/T/ipykernel_33646/610833993.py:1: DeprecationWarning: find_element_by_xpath is deprecated. Please use find_element(by=By.XPATH, value=xpath) instead\n",
      "  job_location = driver.find_element_by_xpath(\"/html/body/div[1]/header/nav/section/section[2]/form/section[2]/input\")\n"
     ]
    }
   ],
   "source": [
    "job_location = driver.find_element_by_xpath(\"/html/body/div[1]/header/nav/section/section[2]/form/section[2]/input\")\n",
    "job_location.click()"
   ]
  },
  {
   "cell_type": "code",
   "execution_count": 21,
   "id": "42b8b61c-2eda-4934-aeb1-52bf364fd192",
   "metadata": {},
   "outputs": [],
   "source": [
    "job_location.clear()"
   ]
  },
  {
   "cell_type": "code",
   "execution_count": 22,
   "id": "ec3606b7-2b93-4248-acc3-269d16f7ef30",
   "metadata": {},
   "outputs": [],
   "source": [
    "job_location.send_keys(\"Campinas\")"
   ]
  },
  {
   "cell_type": "code",
   "execution_count": null,
   "id": "cba28c68-7055-4b38-8254-23b8a05f4e3a",
   "metadata": {},
   "outputs": [],
   "source": []
  }
 ],
 "metadata": {
  "kernelspec": {
   "display_name": "Python 3 (ipykernel)",
   "language": "python",
   "name": "python3"
  },
  "language_info": {
   "codemirror_mode": {
    "name": "ipython",
    "version": 3
   },
   "file_extension": ".py",
   "mimetype": "text/x-python",
   "name": "python",
   "nbconvert_exporter": "python",
   "pygments_lexer": "ipython3",
   "version": "3.9.5"
  }
 },
 "nbformat": 4,
 "nbformat_minor": 5
}
